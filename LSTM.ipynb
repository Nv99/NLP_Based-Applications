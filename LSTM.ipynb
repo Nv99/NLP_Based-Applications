{
 "cells": [
  {
   "cell_type": "code",
   "execution_count": 1,
   "metadata": {},
   "outputs": [
    {
     "name": "stderr",
     "output_type": "stream",
     "text": [
      "Using TensorFlow backend.\n"
     ]
    }
   ],
   "source": [
    "from keras.models import Sequential\n",
    "from keras.layers import Dense\n",
    "from keras.layers import LSTM\n",
    "\n",
    "\n",
    "import numpy as np\n",
    "import matplotlib.pyplot as plt\n",
    "from sklearn.model_selection import train_test_split"
   ]
  },
  {
   "cell_type": "code",
   "execution_count": 2,
   "metadata": {},
   "outputs": [],
   "source": [
    "Data=[[[(i+j)] for i in range(5)] for j in range(100)]                  \n",
    "target=[(i+5) for i in range(100)]"
   ]
  },
  {
   "cell_type": "code",
   "execution_count": 3,
   "metadata": {},
   "outputs": [],
   "source": [
    "data=np.array(Data,dtype=float)\n",
    "target=np.array(target,dtype=float)"
   ]
  },
  {
   "cell_type": "code",
   "execution_count": 4,
   "metadata": {},
   "outputs": [
    {
     "data": {
      "text/plain": [
       "(100, 5, 1)"
      ]
     },
     "execution_count": 4,
     "metadata": {},
     "output_type": "execute_result"
    }
   ],
   "source": [
    "data.shape\n"
   ]
  },
  {
   "cell_type": "code",
   "execution_count": 5,
   "metadata": {},
   "outputs": [],
   "source": [
    "data/=100\n",
    "target/=100"
   ]
  },
  {
   "cell_type": "code",
   "execution_count": 6,
   "metadata": {},
   "outputs": [],
   "source": [
    "x_train,x_test,y_train,y_test=train_test_split(data,target,test_size=0.2, random_state=4)"
   ]
  },
  {
   "cell_type": "code",
   "execution_count": 7,
   "metadata": {},
   "outputs": [
    {
     "data": {
      "text/plain": [
       "array([[0.04],\n",
       "       [0.05],\n",
       "       [0.06],\n",
       "       [0.07],\n",
       "       [0.08]])"
      ]
     },
     "execution_count": 7,
     "metadata": {},
     "output_type": "execute_result"
    }
   ],
   "source": [
    "x_train[1]"
   ]
  },
  {
   "cell_type": "code",
   "execution_count": 8,
   "metadata": {},
   "outputs": [
    {
     "name": "stdout",
     "output_type": "stream",
     "text": [
      "WARNING:tensorflow:From C:\\Users\\lenovo\\AppData\\Local\\conda\\conda\\envs\\tensorflow\\lib\\site-packages\\keras\\backend\\tensorflow_backend.py:74: The name tf.get_default_graph is deprecated. Please use tf.compat.v1.get_default_graph instead.\n",
      "\n",
      "WARNING:tensorflow:From C:\\Users\\lenovo\\AppData\\Local\\conda\\conda\\envs\\tensorflow\\lib\\site-packages\\keras\\backend\\tensorflow_backend.py:517: The name tf.placeholder is deprecated. Please use tf.compat.v1.placeholder instead.\n",
      "\n",
      "WARNING:tensorflow:From C:\\Users\\lenovo\\AppData\\Local\\conda\\conda\\envs\\tensorflow\\lib\\site-packages\\keras\\backend\\tensorflow_backend.py:4138: The name tf.random_uniform is deprecated. Please use tf.random.uniform instead.\n",
      "\n"
     ]
    }
   ],
   "source": [
    "model=Sequential()\n",
    "model.add(LSTM((1),batch_input_shape=(None,5,1),return_sequences=True))\n",
    "model.add(LSTM((1),return_sequences=False))"
   ]
  },
  {
   "cell_type": "code",
   "execution_count": 9,
   "metadata": {},
   "outputs": [
    {
     "name": "stdout",
     "output_type": "stream",
     "text": [
      "WARNING:tensorflow:From C:\\Users\\lenovo\\AppData\\Local\\conda\\conda\\envs\\tensorflow\\lib\\site-packages\\keras\\optimizers.py:790: The name tf.train.Optimizer is deprecated. Please use tf.compat.v1.train.Optimizer instead.\n",
      "\n"
     ]
    }
   ],
   "source": [
    "\n",
    "model.compile(loss='mean_absolute_error',optimizer='adam',metrics=['accuracy'])"
   ]
  },
  {
   "cell_type": "code",
   "execution_count": 10,
   "metadata": {},
   "outputs": [
    {
     "name": "stdout",
     "output_type": "stream",
     "text": [
      "_________________________________________________________________\n",
      "Layer (type)                 Output Shape              Param #   \n",
      "=================================================================\n",
      "lstm_1 (LSTM)                (None, 5, 1)              12        \n",
      "_________________________________________________________________\n",
      "lstm_2 (LSTM)                (None, 1)                 12        \n",
      "=================================================================\n",
      "Total params: 24\n",
      "Trainable params: 24\n",
      "Non-trainable params: 0\n",
      "_________________________________________________________________\n"
     ]
    }
   ],
   "source": [
    "model.summary()"
   ]
  },
  {
   "cell_type": "code",
   "execution_count": 11,
   "metadata": {},
   "outputs": [
    {
     "name": "stdout",
     "output_type": "stream",
     "text": [
      "WARNING:tensorflow:From C:\\Users\\lenovo\\AppData\\Local\\conda\\conda\\envs\\tensorflow\\lib\\site-packages\\tensorflow\\python\\ops\\math_grad.py:1250: add_dispatch_support.<locals>.wrapper (from tensorflow.python.ops.array_ops) is deprecated and will be removed in a future version.\n",
      "Instructions for updating:\n",
      "Use tf.where in 2.0, which has the same broadcast rule as np.where\n",
      "WARNING:tensorflow:From C:\\Users\\lenovo\\AppData\\Local\\conda\\conda\\envs\\tensorflow\\lib\\site-packages\\keras\\backend\\tensorflow_backend.py:986: The name tf.assign_add is deprecated. Please use tf.compat.v1.assign_add instead.\n",
      "\n",
      "WARNING:tensorflow:From C:\\Users\\lenovo\\AppData\\Local\\conda\\conda\\envs\\tensorflow\\lib\\site-packages\\keras\\backend\\tensorflow_backend.py:973: The name tf.assign is deprecated. Please use tf.compat.v1.assign instead.\n",
      "\n",
      "Train on 80 samples, validate on 20 samples\n",
      "Epoch 1/100\n",
      "80/80 [==============================] - 3s 34ms/step - loss: 0.6413 - acc: 0.0000e+00 - val_loss: 0.5233 - val_acc: 0.0000e+00\n",
      "Epoch 2/100\n",
      "80/80 [==============================] - 0s 399us/step - loss: 0.6386 - acc: 0.0000e+00 - val_loss: 0.5205 - val_acc: 0.0000e+00\n",
      "Epoch 3/100\n",
      "80/80 [==============================] - 0s 436us/step - loss: 0.6357 - acc: 0.0000e+00 - val_loss: 0.5176 - val_acc: 0.0000e+00\n",
      "Epoch 4/100\n",
      "80/80 [==============================] - 0s 411us/step - loss: 0.6329 - acc: 0.0000e+00 - val_loss: 0.5147 - val_acc: 0.0000e+00\n",
      "Epoch 5/100\n",
      "80/80 [==============================] - 0s 461us/step - loss: 0.6301 - acc: 0.0000e+00 - val_loss: 0.5118 - val_acc: 0.0000e+00\n",
      "Epoch 6/100\n",
      "80/80 [==============================] - 0s 449us/step - loss: 0.6273 - acc: 0.0000e+00 - val_loss: 0.5090 - val_acc: 0.0000e+00\n",
      "Epoch 7/100\n",
      "80/80 [==============================] - 0s 486us/step - loss: 0.6245 - acc: 0.0000e+00 - val_loss: 0.5062 - val_acc: 0.0000e+00\n",
      "Epoch 8/100\n",
      "80/80 [==============================] - 0s 499us/step - loss: 0.6217 - acc: 0.0000e+00 - val_loss: 0.5034 - val_acc: 0.0000e+00\n",
      "Epoch 9/100\n",
      "80/80 [==============================] - 0s 586us/step - loss: 0.6190 - acc: 0.0000e+00 - val_loss: 0.5006 - val_acc: 0.0000e+00\n",
      "Epoch 10/100\n",
      "80/80 [==============================] - 0s 549us/step - loss: 0.6162 - acc: 0.0000e+00 - val_loss: 0.4978 - val_acc: 0.0000e+00\n",
      "Epoch 11/100\n",
      "80/80 [==============================] - 0s 536us/step - loss: 0.6135 - acc: 0.0000e+00 - val_loss: 0.4951 - val_acc: 0.0000e+00\n",
      "Epoch 12/100\n",
      "80/80 [==============================] - 0s 461us/step - loss: 0.6109 - acc: 0.0000e+00 - val_loss: 0.4924 - val_acc: 0.0000e+00\n",
      "Epoch 13/100\n",
      "80/80 [==============================] - 0s 461us/step - loss: 0.6082 - acc: 0.0000e+00 - val_loss: 0.4897 - val_acc: 0.0000e+00\n",
      "Epoch 14/100\n",
      "80/80 [==============================] - 0s 411us/step - loss: 0.6056 - acc: 0.0000e+00 - val_loss: 0.4871 - val_acc: 0.0000e+00\n",
      "Epoch 15/100\n",
      "80/80 [==============================] - 0s 511us/step - loss: 0.6030 - acc: 0.0000e+00 - val_loss: 0.4844 - val_acc: 0.0000e+00\n",
      "Epoch 16/100\n",
      "80/80 [==============================] - 0s 499us/step - loss: 0.6004 - acc: 0.0000e+00 - val_loss: 0.4818 - val_acc: 0.0000e+00\n",
      "Epoch 17/100\n",
      "80/80 [==============================] - 0s 411us/step - loss: 0.5978 - acc: 0.0000e+00 - val_loss: 0.4792 - val_acc: 0.0000e+00\n",
      "Epoch 18/100\n",
      "80/80 [==============================] - 0s 445us/step - loss: 0.5953 - acc: 0.0000e+00 - val_loss: 0.4766 - val_acc: 0.0000e+00\n",
      "Epoch 19/100\n",
      "80/80 [==============================] - 0s 461us/step - loss: 0.5928 - acc: 0.0000e+00 - val_loss: 0.4741 - val_acc: 0.0000e+00\n",
      "Epoch 20/100\n",
      "80/80 [==============================] - 0s 486us/step - loss: 0.5903 - acc: 0.0000e+00 - val_loss: 0.4716 - val_acc: 0.0000e+00\n",
      "Epoch 21/100\n",
      "80/80 [==============================] - 0s 536us/step - loss: 0.5878 - acc: 0.0000e+00 - val_loss: 0.4690 - val_acc: 0.0000e+00\n",
      "Epoch 22/100\n",
      "80/80 [==============================] - 0s 474us/step - loss: 0.5853 - acc: 0.0000e+00 - val_loss: 0.4665 - val_acc: 0.0000e+00\n",
      "Epoch 23/100\n",
      "80/80 [==============================] - 0s 499us/step - loss: 0.5829 - acc: 0.0000e+00 - val_loss: 0.4640 - val_acc: 0.0000e+00\n",
      "Epoch 24/100\n",
      "80/80 [==============================] - 0s 449us/step - loss: 0.5805 - acc: 0.0000e+00 - val_loss: 0.4615 - val_acc: 0.0000e+00\n",
      "Epoch 25/100\n",
      "80/80 [==============================] - 0s 436us/step - loss: 0.5781 - acc: 0.0000e+00 - val_loss: 0.4590 - val_acc: 0.0000e+00\n",
      "Epoch 26/100\n",
      "80/80 [==============================] - 0s 511us/step - loss: 0.5758 - acc: 0.0000e+00 - val_loss: 0.4566 - val_acc: 0.0000e+00\n",
      "Epoch 27/100\n",
      "80/80 [==============================] - 0s 474us/step - loss: 0.5735 - acc: 0.0000e+00 - val_loss: 0.4541 - val_acc: 0.0000e+00\n",
      "Epoch 28/100\n",
      "80/80 [==============================] - 0s 443us/step - loss: 0.5712 - acc: 0.0000e+00 - val_loss: 0.4517 - val_acc: 0.0000e+00\n",
      "Epoch 29/100\n",
      "80/80 [==============================] - 0s 411us/step - loss: 0.5689 - acc: 0.0000e+00 - val_loss: 0.4493 - val_acc: 0.0000e+00\n",
      "Epoch 30/100\n",
      "80/80 [==============================] - 0s 511us/step - loss: 0.5667 - acc: 0.0000e+00 - val_loss: 0.4469 - val_acc: 0.0000e+00\n",
      "Epoch 31/100\n",
      "80/80 [==============================] - 0s 443us/step - loss: 0.5645 - acc: 0.0000e+00 - val_loss: 0.4445 - val_acc: 0.0000e+00\n",
      "Epoch 32/100\n",
      "80/80 [==============================] - 0s 386us/step - loss: 0.5623 - acc: 0.0000e+00 - val_loss: 0.4421 - val_acc: 0.0000e+00\n",
      "Epoch 33/100\n",
      "80/80 [==============================] - 0s 399us/step - loss: 0.5600 - acc: 0.0000e+00 - val_loss: 0.4399 - val_acc: 0.0000e+00\n",
      "Epoch 34/100\n",
      "80/80 [==============================] - 0s 362us/step - loss: 0.5578 - acc: 0.0000e+00 - val_loss: 0.4377 - val_acc: 0.0000e+00\n",
      "Epoch 35/100\n",
      "80/80 [==============================] - 0s 499us/step - loss: 0.5555 - acc: 0.0000e+00 - val_loss: 0.4355 - val_acc: 0.0000e+00\n",
      "Epoch 36/100\n",
      "80/80 [==============================] - 0s 486us/step - loss: 0.5533 - acc: 0.0000e+00 - val_loss: 0.4333 - val_acc: 0.0000e+00\n",
      "Epoch 37/100\n",
      "80/80 [==============================] - 0s 474us/step - loss: 0.5510 - acc: 0.0000e+00 - val_loss: 0.4311 - val_acc: 0.0000e+00\n",
      "Epoch 38/100\n",
      "80/80 [==============================] - 0s 424us/step - loss: 0.5487 - acc: 0.0000e+00 - val_loss: 0.4288 - val_acc: 0.0000e+00\n",
      "Epoch 39/100\n",
      "80/80 [==============================] - 0s 499us/step - loss: 0.5465 - acc: 0.0000e+00 - val_loss: 0.4266 - val_acc: 0.0000e+00\n",
      "Epoch 40/100\n",
      "80/80 [==============================] - 0s 449us/step - loss: 0.5442 - acc: 0.0000e+00 - val_loss: 0.4243 - val_acc: 0.0000e+00\n",
      "Epoch 41/100\n",
      "80/80 [==============================] - 0s 449us/step - loss: 0.5419 - acc: 0.0000e+00 - val_loss: 0.4220 - val_acc: 0.0000e+00\n",
      "Epoch 42/100\n",
      "80/80 [==============================] - 0s 474us/step - loss: 0.5396 - acc: 0.0000e+00 - val_loss: 0.4197 - val_acc: 0.0000e+00\n",
      "Epoch 43/100\n",
      "80/80 [==============================] - 0s 449us/step - loss: 0.5374 - acc: 0.0000e+00 - val_loss: 0.4174 - val_acc: 0.0000e+00\n",
      "Epoch 44/100\n",
      "80/80 [==============================] - 0s 461us/step - loss: 0.5350 - acc: 0.0000e+00 - val_loss: 0.4151 - val_acc: 0.0000e+00\n",
      "Epoch 45/100\n",
      "80/80 [==============================] - 0s 474us/step - loss: 0.5328 - acc: 0.0000e+00 - val_loss: 0.4127 - val_acc: 0.0000e+00\n",
      "Epoch 46/100\n",
      "80/80 [==============================] - 0s 511us/step - loss: 0.5305 - acc: 0.0000e+00 - val_loss: 0.4103 - val_acc: 0.0000e+00\n",
      "Epoch 47/100\n",
      "80/80 [==============================] - 0s 399us/step - loss: 0.5282 - acc: 0.0000e+00 - val_loss: 0.4079 - val_acc: 0.0000e+00\n",
      "Epoch 48/100\n",
      "80/80 [==============================] - 0s 436us/step - loss: 0.5259 - acc: 0.0000e+00 - val_loss: 0.4054 - val_acc: 0.0000e+00\n",
      "Epoch 49/100\n",
      "80/80 [==============================] - 0s 474us/step - loss: 0.5235 - acc: 0.0000e+00 - val_loss: 0.4030 - val_acc: 0.0000e+00\n",
      "Epoch 50/100\n",
      "80/80 [==============================] - 0s 511us/step - loss: 0.5212 - acc: 0.0000e+00 - val_loss: 0.4005 - val_acc: 0.0000e+00\n",
      "Epoch 51/100\n",
      "80/80 [==============================] - 0s 424us/step - loss: 0.5189 - acc: 0.0000e+00 - val_loss: 0.3979 - val_acc: 0.0000e+00\n",
      "Epoch 52/100\n",
      "80/80 [==============================] - 0s 474us/step - loss: 0.5164 - acc: 0.0000e+00 - val_loss: 0.3954 - val_acc: 0.0000e+00\n"
     ]
    },
    {
     "name": "stdout",
     "output_type": "stream",
     "text": [
      "Epoch 53/100\n",
      "80/80 [==============================] - 0s 486us/step - loss: 0.5141 - acc: 0.0000e+00 - val_loss: 0.3928 - val_acc: 0.0000e+00\n",
      "Epoch 54/100\n",
      "80/80 [==============================] - 0s 436us/step - loss: 0.5117 - acc: 0.0000e+00 - val_loss: 0.3901 - val_acc: 0.0000e+00\n",
      "Epoch 55/100\n",
      "80/80 [==============================] - 0s 374us/step - loss: 0.5093 - acc: 0.0000e+00 - val_loss: 0.3873 - val_acc: 0.0000e+00\n",
      "Epoch 56/100\n",
      "80/80 [==============================] - 0s 411us/step - loss: 0.5068 - acc: 0.0000e+00 - val_loss: 0.3846 - val_acc: 0.0000e+00\n",
      "Epoch 57/100\n",
      "80/80 [==============================] - 0s 449us/step - loss: 0.5043 - acc: 0.0000e+00 - val_loss: 0.3818 - val_acc: 0.0000e+00\n",
      "Epoch 58/100\n",
      "80/80 [==============================] - 0s 424us/step - loss: 0.5019 - acc: 0.0000e+00 - val_loss: 0.3790 - val_acc: 0.0000e+00\n",
      "Epoch 59/100\n",
      "80/80 [==============================] - 0s 474us/step - loss: 0.4993 - acc: 0.0000e+00 - val_loss: 0.3761 - val_acc: 0.0000e+00\n",
      "Epoch 60/100\n",
      "80/80 [==============================] - 0s 474us/step - loss: 0.4968 - acc: 0.0000e+00 - val_loss: 0.3732 - val_acc: 0.0000e+00\n",
      "Epoch 61/100\n",
      "80/80 [==============================] - 0s 798us/step - loss: 0.4942 - acc: 0.0000e+00 - val_loss: 0.3702 - val_acc: 0.0000e+00\n",
      "Epoch 62/100\n",
      "80/80 [==============================] - 0s 586us/step - loss: 0.4918 - acc: 0.0000e+00 - val_loss: 0.3672 - val_acc: 0.0000e+00\n",
      "Epoch 63/100\n",
      "80/80 [==============================] - 0s 435us/step - loss: 0.4891 - acc: 0.0000e+00 - val_loss: 0.3641 - val_acc: 0.0000e+00\n",
      "Epoch 64/100\n",
      "80/80 [==============================] - 0s 424us/step - loss: 0.4865 - acc: 0.0000e+00 - val_loss: 0.3609 - val_acc: 0.0000e+00\n",
      "Epoch 65/100\n",
      "80/80 [==============================] - 0s 411us/step - loss: 0.4839 - acc: 0.0000e+00 - val_loss: 0.3577 - val_acc: 0.0000e+00\n",
      "Epoch 66/100\n",
      "80/80 [==============================] - 0s 386us/step - loss: 0.4811 - acc: 0.0000e+00 - val_loss: 0.3548 - val_acc: 0.0000e+00\n",
      "Epoch 67/100\n",
      "80/80 [==============================] - 0s 424us/step - loss: 0.4786 - acc: 0.0000e+00 - val_loss: 0.3519 - val_acc: 0.0000e+00\n",
      "Epoch 68/100\n",
      "80/80 [==============================] - 0s 449us/step - loss: 0.4758 - acc: 0.0000e+00 - val_loss: 0.3489 - val_acc: 0.0000e+00\n",
      "Epoch 69/100\n",
      "80/80 [==============================] - 0s 424us/step - loss: 0.4730 - acc: 0.0000e+00 - val_loss: 0.3459 - val_acc: 0.0000e+00\n",
      "Epoch 70/100\n",
      "80/80 [==============================] - 0s 424us/step - loss: 0.4702 - acc: 0.0000e+00 - val_loss: 0.3428 - val_acc: 0.0000e+00\n",
      "Epoch 71/100\n",
      "80/80 [==============================] - 0s 436us/step - loss: 0.4673 - acc: 0.0000e+00 - val_loss: 0.3397 - val_acc: 0.0000e+00\n",
      "Epoch 72/100\n",
      "80/80 [==============================] - 0s 436us/step - loss: 0.4645 - acc: 0.0000e+00 - val_loss: 0.3365 - val_acc: 0.0000e+00\n",
      "Epoch 73/100\n",
      "80/80 [==============================] - 0s 399us/step - loss: 0.4616 - acc: 0.0000e+00 - val_loss: 0.3333 - val_acc: 0.0000e+00\n",
      "Epoch 74/100\n",
      "80/80 [==============================] - 0s 424us/step - loss: 0.4587 - acc: 0.0000e+00 - val_loss: 0.3301 - val_acc: 0.0000e+00\n",
      "Epoch 75/100\n",
      "80/80 [==============================] - 0s 424us/step - loss: 0.4558 - acc: 0.0000e+00 - val_loss: 0.3270 - val_acc: 0.0000e+00\n",
      "Epoch 76/100\n",
      "80/80 [==============================] - 0s 424us/step - loss: 0.4530 - acc: 0.0000e+00 - val_loss: 0.3240 - val_acc: 0.0000e+00\n",
      "Epoch 77/100\n",
      "80/80 [==============================] - 0s 424us/step - loss: 0.4498 - acc: 0.0000e+00 - val_loss: 0.3210 - val_acc: 0.0000e+00\n",
      "Epoch 78/100\n",
      "80/80 [==============================] - 0s 474us/step - loss: 0.4469 - acc: 0.0000e+00 - val_loss: 0.3183 - val_acc: 0.0000e+00\n",
      "Epoch 79/100\n",
      "80/80 [==============================] - 0s 461us/step - loss: 0.4437 - acc: 0.0000e+00 - val_loss: 0.3157 - val_acc: 0.0000e+00\n",
      "Epoch 80/100\n",
      "80/80 [==============================] - 0s 449us/step - loss: 0.4406 - acc: 0.0000e+00 - val_loss: 0.3130 - val_acc: 0.0000e+00\n",
      "Epoch 81/100\n",
      "80/80 [==============================] - 0s 461us/step - loss: 0.4374 - acc: 0.0000e+00 - val_loss: 0.3103 - val_acc: 0.0000e+00\n",
      "Epoch 82/100\n",
      "80/80 [==============================] - 0s 449us/step - loss: 0.4342 - acc: 0.0000e+00 - val_loss: 0.3075 - val_acc: 0.0000e+00\n",
      "Epoch 83/100\n",
      "80/80 [==============================] - 0s 436us/step - loss: 0.4311 - acc: 0.0000e+00 - val_loss: 0.3049 - val_acc: 0.0000e+00\n",
      "Epoch 84/100\n",
      "80/80 [==============================] - 0s 461us/step - loss: 0.4278 - acc: 0.0000e+00 - val_loss: 0.3026 - val_acc: 0.0000e+00\n",
      "Epoch 85/100\n",
      "80/80 [==============================] - 0s 474us/step - loss: 0.4246 - acc: 0.0000e+00 - val_loss: 0.3002 - val_acc: 0.0000e+00\n",
      "Epoch 86/100\n",
      "80/80 [==============================] - 0s 436us/step - loss: 0.4210 - acc: 0.0000e+00 - val_loss: 0.2977 - val_acc: 0.0000e+00\n",
      "Epoch 87/100\n",
      "80/80 [==============================] - 0s 449us/step - loss: 0.4179 - acc: 0.0000e+00 - val_loss: 0.2952 - val_acc: 0.0000e+00\n",
      "Epoch 88/100\n",
      "80/80 [==============================] - 0s 524us/step - loss: 0.4146 - acc: 0.0000e+00 - val_loss: 0.2927 - val_acc: 0.0000e+00\n",
      "Epoch 89/100\n",
      "80/80 [==============================] - 0s 536us/step - loss: 0.4112 - acc: 0.0000e+00 - val_loss: 0.2901 - val_acc: 0.0000e+00\n",
      "Epoch 90/100\n",
      "80/80 [==============================] - 0s 424us/step - loss: 0.4081 - acc: 0.0000e+00 - val_loss: 0.2874 - val_acc: 0.0000e+00\n",
      "Epoch 91/100\n",
      "80/80 [==============================] - 0s 586us/step - loss: 0.4046 - acc: 0.0000e+00 - val_loss: 0.2849 - val_acc: 0.0000e+00\n",
      "Epoch 92/100\n",
      "80/80 [==============================] - 0s 524us/step - loss: 0.4014 - acc: 0.0000e+00 - val_loss: 0.2823 - val_acc: 0.0000e+00\n",
      "Epoch 93/100\n",
      "80/80 [==============================] - 0s 424us/step - loss: 0.3983 - acc: 0.0000e+00 - val_loss: 0.2802 - val_acc: 0.0000e+00\n",
      "Epoch 94/100\n",
      "80/80 [==============================] - 0s 436us/step - loss: 0.3949 - acc: 0.0000e+00 - val_loss: 0.2781 - val_acc: 0.0000e+00\n",
      "Epoch 95/100\n",
      "80/80 [==============================] - 0s 511us/step - loss: 0.3916 - acc: 0.0000e+00 - val_loss: 0.2760 - val_acc: 0.0000e+00\n",
      "Epoch 96/100\n",
      "80/80 [==============================] - 0s 424us/step - loss: 0.3885 - acc: 0.0000e+00 - val_loss: 0.2738 - val_acc: 0.0000e+00\n",
      "Epoch 97/100\n",
      "80/80 [==============================] - 0s 461us/step - loss: 0.3852 - acc: 0.0000e+00 - val_loss: 0.2716 - val_acc: 0.0000e+00\n",
      "Epoch 98/100\n",
      "80/80 [==============================] - 0s 486us/step - loss: 0.3820 - acc: 0.0000e+00 - val_loss: 0.2694 - val_acc: 0.0000e+00\n",
      "Epoch 99/100\n",
      "80/80 [==============================] - 0s 511us/step - loss: 0.3789 - acc: 0.0000e+00 - val_loss: 0.2672 - val_acc: 0.0000e+00\n",
      "Epoch 100/100\n",
      "80/80 [==============================] - 0s 449us/step - loss: 0.3758 - acc: 0.0000e+00 - val_loss: 0.2649 - val_acc: 0.0000e+00\n"
     ]
    }
   ],
   "source": [
    "history=model.fit(x_train,y_train,epochs=100,validation_data=(x_test,y_test))"
   ]
  },
  {
   "cell_type": "code",
   "execution_count": 12,
   "metadata": {},
   "outputs": [],
   "source": [
    "results=model.predict(x_test)"
   ]
  },
  {
   "cell_type": "code",
   "execution_count": 13,
   "metadata": {},
   "outputs": [
    {
     "data": {
      "image/png": "[encoded data removed]",
      "text/plain": [
       "<Figure size 432x288 with 1 Axes>"
      ]
     },
     "metadata": {
      "needs_background": "light"
     },
     "output_type": "display_data"
    }
   ],
   "source": [
    "plt.scatter(range(20),results,c='r')\n",
    "plt.scatter(range(20),y_test,c='g')\n",
    "plt.show()"
   ]
  },
  {
   "cell_type": "code",
   "execution_count": 14,
   "metadata": {},
   "outputs": [
    {
     "data": {
      "image/png": "[encoded data removed]",
      "text/plain": [
       "<Figure size 432x288 with 1 Axes>"
      ]
     },
     "metadata": {
      "needs_background": "light"
     },
     "output_type": "display_data"
    }
   ],
   "source": [
    "plt.plot(history.history['loss'])\n",
    "plt.show()\n"
   ]
  },
  {
   "cell_type": "code",
   "execution_count": null,
   "metadata": {},
   "outputs": [],
   "source": []
  }
 ],
 "metadata": {
  "kernelspec": {
   "display_name": "Tensorflow",
   "language": "python",
   "name": "tensorflow"
  },
  "language_info": {
   "codemirror_mode": {
    "name": "ipython",
    "version": 3
   },
   "file_extension": ".py",
   "mimetype": "text/x-python",
   "name": "python",
   "nbconvert_exporter": "python",
   "pygments_lexer": "ipython3",
   "version": "3.6.8"
  }
 },
 "nbformat": 4,
 "nbformat_minor": 2
}
